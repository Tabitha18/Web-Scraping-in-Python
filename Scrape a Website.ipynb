{
 "cells": [
  {
   "cell_type": "markdown",
   "metadata": {},
   "source": [
    "## Scraping Data from a Website\n",
    "The primary goal of this data science task is to scrape data from www.thewhiskyexchange.com site and write the data into a csv file locally. "
   ]
  },
  {
   "cell_type": "code",
   "execution_count": 1,
   "metadata": {},
   "outputs": [],
   "source": [
    "# Importing Key Libraries. The primary libray for webscraping task is beautifulsoup. \n",
    "from bs4 import BeautifulSoup\n",
    "import numpy as np\n",
    "import requests\n",
    "import pandas as pd\n",
    "import csv\n",
    "import matplotlib.pyplot as plt\n",
    "%matplotlib inline"
   ]
  },
  {
   "cell_type": "code",
   "execution_count": null,
   "metadata": {},
   "outputs": [],
   "source": [
    "# The line of codes below are used to scraped the data from the website and write it into a csv file locally.\n",
    "baseurl = \"https://www.thewhiskyexchange.com\"\n",
    "headers = {'User-Agent': 'Mozilla/5.0 (Macintosh; Intel Mac OS X 11_5) AppleWebKit/537.36 (KHTML, like Gecko) Chrome/92.0.4515.107 Safari/537.36'}\n",
    "# It is very important to include a user-Agent in your header to avoid being denied from a website.\n",
    "productlinks = []\n",
    "t={}\n",
    "data=[]\n",
    "c=0\n",
    "for x in range(1,6):\n",
    "    k = requests.get('https://www.thewhiskyexchange.com/c/35/japanese-whisky?pg={}&psize=24&sort=pasc'.format(x)).text\n",
    "    soup=BeautifulSoup(k,'html.parser')\n",
    "    csv_file = open('JapaneseWhisky_data.csv', 'w')\n",
    "    csv_writer = csv.writer(csv_file)\n",
    "    csv_writer.writerow(['name','price','brand','rating','about','review'])\n",
    "    productlist = soup.find_all(\"li\",{\"class\":\"product-grid__item\"})\n",
    "\n",
    "    for product in productlist:\n",
    "        link = product.find(\"a\",{\"class\":\"product-card\"}).get('href')\n",
    "        productlinks.append(baseurl + link)\n",
    "\n",
    "\n",
    "for link in productlinks:\n",
    "    f = requests.get(link,headers=headers).text\n",
    "    soup=BeautifulSoup(f,'html.parser')\n",
    "\n",
    "    try:\n",
    "        price=soup.find(\"p\",{\"class\":\"product-action__price\"}).text.replace('\\n',\"\")\n",
    "    except:\n",
    "        price = 'no price'\n",
    "\n",
    "    try:\n",
    "        about=soup.find(\"div\",{\"class\":\"product-main__description\"}).text.replace('\\n',\"\")\n",
    "    except:\n",
    "        about='no price'\n",
    "\n",
    "    try:\n",
    "        rating = soup.find(\"div\",{\"class\":\"review-overview\"}).text.replace('\\n',\"\")\n",
    "    except:\n",
    "        rating='no rating'\n",
    "\n",
    "    try:\n",
    "        name=soup.find(\"h1\",{\"class\":\"product-main__name\"}).text.replace('\\n',\"\")\n",
    "    except:\n",
    "        name='no name'\n",
    "   \n",
    "    try:\n",
    "        review = soup.find(\"p\",{\"class\":\"review-list__copy\"}).text.replace('\\n', \"\")\n",
    "    except:\n",
    "        review='no review'\n",
    "    try:\n",
    "        brand = soup.find(\"ul\",{\"class\":\"product-main__meta\"}).text.replace('\\n',\"\")\n",
    "    except:\n",
    "        brand='no brand'\n",
    "\n",
    "\n",
    "    whisky = {\"name\":name,\"price\":price,\"brand\":brand,\"rating\":rating,\"about\":about,\"review\":review}\n",
    "\n",
    "    data.append(whisky)\n",
    "    c=c+1\n",
    "    print(\"completed\",c)\n",
    "    csv_writer.writerow([name,price,brand,rating,about,review])\n",
    "\n",
    "csv_file.close()"
   ]
  },
  {
   "cell_type": "code",
   "execution_count": null,
   "metadata": {},
   "outputs": [],
   "source": [
    "# Checking the dataframe\n",
    "df = pd.DataFrame(data) # This converts the dataframe into a pandas dataframe for analyis\n",
    "print(df)"
   ]
  }
 ],
 "metadata": {
  "kernelspec": {
   "display_name": "Python 3",
   "language": "python",
   "name": "python3"
  },
  "language_info": {
   "codemirror_mode": {
    "name": "ipython",
    "version": 3
   },
   "file_extension": ".py",
   "mimetype": "text/x-python",
   "name": "python",
   "nbconvert_exporter": "python",
   "pygments_lexer": "ipython3",
   "version": "3.8.5"
  }
 },
 "nbformat": 4,
 "nbformat_minor": 4
}
